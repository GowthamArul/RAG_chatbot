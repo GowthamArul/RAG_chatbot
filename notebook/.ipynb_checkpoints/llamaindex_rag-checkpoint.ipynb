{
 "cells": [
  {
   "cell_type": "code",
   "execution_count": 20,
   "id": "3f979c04-3ffd-4dfa-8b82-871381254e9f",
   "metadata": {},
   "outputs": [],
   "source": [
    "import os\n",
    "from llama_index.core import VectorStoreIndex, Document, ServiceContext\n",
    "from llama_index.vector_stores.chroma import ChromaVectorStore\n",
    "from llama_index.core.storage import StorageContext\n",
    "from llama_index.llms.ollama import Ollama\n",
    "from llama_index.embeddings.ollama import OllamaEmbedding\n",
    "from llama_index.core.query_engine import RetrieverQueryEngine\n",
    "import chromadb\n",
    "import uuid"
   ]
  },
  {
   "cell_type": "code",
   "execution_count": 2,
   "id": "88de3fea-52ef-4ce3-ac4c-59b877601a16",
   "metadata": {},
   "outputs": [],
   "source": [
    "tex = \"\"\"\n",
    "In this paper1, we develop DeepSinger, a multi-lingual multi-singer\n",
    "singing voice synthesis (SVS) system, which is built from scratch us-\n",
    "ing singing training data mined from music websites. The pipeline\n",
    "of DeepSinger consists of several steps, including data crawling,\n",
    "singing and accompaniment separation, lyrics-to-singing align-\n",
    "ment, data filtration, and singing modeling. Specifically, we design\n",
    "a lyrics-to-singing alignment model to automatically extract the\n",
    "duration of each phoneme in lyrics starting from coarse-grained\n",
    "sentence level to fine-grained phoneme level, and further design a\n",
    "multi-lingual multi-singer singing model based on a feed-forward\n",
    "Transformer to directly generate linear-spectrograms from lyrics,\n",
    "and synthesize voices using Griffin-Lim. DeepSinger has several\n",
    "advantages over previous SVS systems: 1) to the best of our knowl-\n",
    "edge, it is the first SVS system that directly mines training data\n",
    "from music websites, 2) the lyrics-to-singing alignment model fur-\n",
    "ther avoids any human efforts for alignment labeling and greatly\n",
    "reduces labeling cost, 3) the singing model based on a feed-forward\n",
    "Transformer is simple and efficient, by removing the complicated\n",
    "acoustic feature modeling in parametric synthesis and leveraging\n",
    "a reference encoder to capture the timbre of a singer from noisy\n",
    "singing data, and 4) it can synthesize singing voices in multiple\n",
    "languages and multiple singers. We evaluate DeepSinger on our\n",
    "mined singing dataset that consists of about 92 hours data from 89\n",
    "singers on three languages (Chinese, Cantonese and English). The\n",
    "results demonstrate that with the singing data purely mined from\n",
    "the Web, DeepSinger can synthesize high-quality singing voices in\n",
    "terms of both pitch accuracy and voice naturalness2.\n",
    "\"\"\"\n",
    "\n",
    "docs = [\n",
    "        Document(text=tex, metdata={'Title':'DeepSinger: Singing Voice Synthesis with Data Mined From the Web'})    \n",
    "]"
   ]
  },
  {
   "cell_type": "code",
   "execution_count": 5,
   "id": "b4081802-a2d6-4707-a103-479598868e2e",
   "metadata": {},
   "outputs": [],
   "source": [
    "embeddings = OllamaEmbedding(model_name='nomic-embed-text')"
   ]
  },
  {
   "cell_type": "code",
   "execution_count": 7,
   "id": "578d1856-ab25-4707-bc66-6984ca029f5f",
   "metadata": {},
   "outputs": [],
   "source": [
    "chroma_client = chromadb.PersistentClient(path='../POC')\n",
    "vector_store = ChromaVectorStore(chroma_collection= chroma_client, collection_name='quickstart')"
   ]
  },
  {
   "cell_type": "code",
   "execution_count": 8,
   "id": "303771aa-4820-4020-ad23-6dabfcc73e7e",
   "metadata": {},
   "outputs": [],
   "source": [
    "index = VectorStoreIndex.from_documents(documents=docs, embed_model=embeddings, vector_store=vector_store)"
   ]
  },
  {
   "cell_type": "code",
   "execution_count": 11,
   "id": "069ef6c2-7b98-438e-bbb6-e3d1ca747f18",
   "metadata": {},
   "outputs": [],
   "source": [
    "retriever = index.as_retriever(similarity_top_k=3)"
   ]
  },
  {
   "cell_type": "code",
   "execution_count": 18,
   "id": "9b35bac7-0d4b-462e-8ff0-c6316577db93",
   "metadata": {},
   "outputs": [],
   "source": [
    "llm = Ollama(model=\"mistral:7b\")\n",
    "query_engine = RetrieverQueryEngine.from_args(retriever=retriever, llm=llm)"
   ]
  },
  {
   "cell_type": "code",
   "execution_count": 19,
   "id": "6271fc10-2321-4f43-ac8f-39293c111e18",
   "metadata": {},
   "outputs": [
    {
     "name": "stdout",
     "output_type": "stream",
     "text": [
      "\n",
      "Q: what is deep singer\n",
      "A:  DeepSinger refers to a multi-lingual multi-singer singing voice synthesis (SVS) system, which is built from scratch using singing training data mined from music websites. The system has a pipeline that includes several steps such as data crawling, singing and accompaniment separation, lyrics-to-singing alignment, data filtration, and singing modeling. DeepSinger directly generates linear spectrograms from lyrics and synthesizes voices using Griffin-Lim. It is designed to avoid human efforts for alignment labeling and greatly reduce labeling cost, as well as to synthesize singing voices in multiple languages and multiple singers. It has been evaluated on a dataset of approximately 92 hours of data from 89 singers across three languages (Chinese, Cantonese, and English). The results indicate that DeepSinger can produce high-quality singing voices in terms of both pitch accuracy and voice naturalness.\n"
     ]
    }
   ],
   "source": [
    "query = \"what is deep singer\"\n",
    "response = query_engine.query(query)\n",
    "print(f\"\\nQ: {query}\\nA: {response}\")"
   ]
  },
  {
   "cell_type": "code",
   "execution_count": null,
   "id": "e130654b-9817-43f0-b2fc-91f62d944023",
   "metadata": {},
   "outputs": [],
   "source": []
  }
 ],
 "metadata": {
  "kernelspec": {
   "display_name": "Python 3 (ipykernel)",
   "language": "python",
   "name": "python3"
  },
  "language_info": {
   "codemirror_mode": {
    "name": "ipython",
    "version": 3
   },
   "file_extension": ".py",
   "mimetype": "text/x-python",
   "name": "python",
   "nbconvert_exporter": "python",
   "pygments_lexer": "ipython3",
   "version": "3.13.5"
  }
 },
 "nbformat": 4,
 "nbformat_minor": 5
}
