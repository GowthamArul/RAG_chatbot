{
 "cells": [
  {
   "cell_type": "code",
   "execution_count": 1,
   "id": "d4685302-1e68-49d7-847a-54342f6905a0",
   "metadata": {},
   "outputs": [],
   "source": [
    "from llama_index.core import VectorStoreIndex\n",
    "from llama_index.core.node_parser import SentenceSplitter\n",
    "from llama_index.vector_stores.postgres import PGVectorStore\n",
    "from llama_index.core import SimpleDirectoryReader\n",
    "from llama_index.core.storage import StorageContext"
   ]
  },
  {
   "cell_type": "code",
   "execution_count": 2,
   "id": "a546ba90-079d-439c-b072-04320afef4a2",
   "metadata": {},
   "outputs": [],
   "source": [
    "docs = SimpleDirectoryReader(\"../data\").load_data()\n",
    "# Text splitter + node parser\n",
    "splitter = SentenceSplitter(chunk_size=512, chunk_overlap=100)\n",
    "nodes = splitter.get_nodes_from_documents(\n",
    "    docs, show_progress=False\n",
    ")"
   ]
  },
  {
   "cell_type": "code",
   "execution_count": 5,
   "id": "6072ea48-ddbd-4fd5-b91c-2445ab288556",
   "metadata": {
    "scrolled": true
   },
   "outputs": [
    {
     "data": {
      "text/plain": [
       "llama_index.core.schema.Document"
      ]
     },
     "execution_count": 5,
     "metadata": {},
     "output_type": "execute_result"
    }
   ],
   "source": [
    "type(docs[0])"
   ]
  },
  {
   "cell_type": "code",
   "execution_count": 2,
   "id": "e3251806-35e7-4f2f-b936-952838534374",
   "metadata": {},
   "outputs": [],
   "source": [
    "vector_store = PGVectorStore.from_params(\n",
    "    database=\"pgvector_db\",\n",
    "    host=\"localhost\",\n",
    "    password=\"password\",\n",
    "    port=5432,\n",
    "    user=\"myuser\",\n",
    "    embed_dim=768,\n",
    ")"
   ]
  },
  {
   "cell_type": "code",
   "execution_count": 4,
   "id": "d17ff7e7-dbf0-4285-99be-b58ffb2d3cac",
   "metadata": {
    "scrolled": true
   },
   "outputs": [],
   "source": [
    "from llama_index.embeddings.ollama import OllamaEmbedding\n",
    "storage_context = StorageContext.from_defaults(vector_store=vector_store)\n",
    "index = VectorStoreIndex(\n",
    "        nodes,\n",
    "        embed_model=OllamaEmbedding(model_name=\"nomic-embed-text\"),\n",
    "        # vector_store=vector_store,\n",
    "        storage_context=storage_context\n",
    "    )"
   ]
  },
  {
   "cell_type": "code",
   "execution_count": 5,
   "id": "287a320d-e39c-4600-bead-fde3fc6af13d",
   "metadata": {},
   "outputs": [],
   "source": [
    "from llama_index.embeddings.ollama import OllamaEmbedding\n",
    "storage_context = StorageContext.from_defaults(vector_store=vector_store)\n",
    "retriever = VectorStoreIndex.from_vector_store(\n",
    "        vector_store=vector_store,\n",
    "        storage_context=storage_context,\n",
    "        embed_model=OllamaEmbedding(model_name=\"nomic-embed-text\"),\n",
    "    ).as_retriever(similarity_top_k = 2)"
   ]
  },
  {
   "cell_type": "code",
   "execution_count": 6,
   "id": "fbc2e97e-07d3-4066-9ee5-0060316831a1",
   "metadata": {},
   "outputs": [],
   "source": [
    "from llama_index.llms.ollama import Ollama\n",
    "llm = Ollama(model=\"mistral:7b\")"
   ]
  },
  {
   "cell_type": "code",
   "execution_count": 7,
   "id": "e9d09edc-4059-4229-aa86-fa32ee1b1966",
   "metadata": {},
   "outputs": [],
   "source": [
    "from llama_index.core.tools import RetrieverTool\n",
    "retriever_tool = RetrieverTool.from_defaults(\n",
    "    retriever=retriever,\n",
    "    description=\"Tool for retrieving relevant documents\",\n",
    "    name=\"CompanyDocsRetriever\"\n",
    ")"
   ]
  },
  {
   "cell_type": "code",
   "execution_count": 8,
   "id": "4258dddc-008c-4274-867b-efcbe069d971",
   "metadata": {},
   "outputs": [],
   "source": [
    "from llama_index.core.retrievers import RouterRetriever\n",
    "router_retriever = RouterRetriever.from_defaults(\n",
    "    llm=llm,\n",
    "    select_multi = True,\n",
    "    retriever_tools = [retriever_tool])"
   ]
  },
  {
   "cell_type": "code",
   "execution_count": 9,
   "id": "787779a9-c19d-4daa-9c0f-cf40ef09fea3",
   "metadata": {},
   "outputs": [],
   "source": [
    "from llama_index.core.chat_engine.condense_plus_context import CondensePlusContextChatEngine\n",
    "\n",
    "import sys\n",
    "import os\n",
    "sys.path.append(os.path.abspath(os.path.join(os.getcwd(), '..')))\n",
    "from configuration.nodeprocessor import DefaultNodePostProcessor\n",
    "\n",
    "chat_engine = CondensePlusContextChatEngine.from_defaults(\n",
    "        retriever=router_retriever,\n",
    "        llm=llm,\n",
    "        chat_history=[],\n",
    "        system_prompt=\"You are a helpful assistant answering questions based on company documents.\",\n",
    "        # node_postprocessors=[DefaultNodePostProcessor()]\n",
    "    )"
   ]
  },
  {
   "cell_type": "code",
   "execution_count": 10,
   "id": "cd7774bf-cd90-48fb-a2d2-a8449aa901b4",
   "metadata": {},
   "outputs": [],
   "source": [
    "response = chat_engine.stream_chat(\"Tell me about the deep singer paper\")"
   ]
  },
  {
   "cell_type": "code",
   "execution_count": 11,
   "id": "e00339d9-34cd-4746-b4be-47b66d513e55",
   "metadata": {
    "scrolled": true
   },
   "outputs": [],
   "source": [
    "accumulated_response = \"\"\n",
    "for res in response.response_gen:\n",
    "    accumulated_response += res"
   ]
  },
  {
   "cell_type": "code",
   "execution_count": 12,
   "id": "76ca745c-1f7a-42c6-b494-795ca398383a",
   "metadata": {},
   "outputs": [
    {
     "data": {
      "text/plain": [
       "' The \"DeepSinger: Singing Voice Synthesis with Data Mined From the Web\" is a research paper presented at the 26th ACM SIGKDD Conference on Knowledge Discovery and Data Mining (KDD ’20) in 2020.\\n\\nThe primary focus of this paper is Singing Voice Synthesis (SVS), which is a technology that generates singing voices from lyrics. This field has gained significant attention due to the advancements in deep neural networks. The authors compare SVS to Text-to-Speech (TTS) systems, stating that while TTS allows machines to speak, SVS enables them to sing as well. They mention that singing voices have more complex prosody than speaking voices, making SVS more challenging than TTS.\\n\\nThe paper discusses previous works on SVS, including lyrics-to-singing alignment, parametric synthesis, acoustic modeling, and adversarial synthesis. However, these systems often require high-quality singing recordings as training data and strict alignments between lyrics and singing audio for accurate singing modeling, which can be costly and time-consuming to acquire.\\n\\nThe authors of this paper propose a solution using data mining from the web. They evaluate their proposed method, DeepSinger, on a dataset they mined, consisting of about 92 hours of singing data from 89 singers across three languages (Chinese, Cantonese, and English). The results demonstrate that with singing data purely mined from the Web, DeepSinger can synthesize high-quality singing voices in terms of both pitch accuracy and voice naturalness.\\n\\nThe paper is categorized under Computing Methodologies and Applied Computing, specifically Natural Language Processing and Sound and Music Computing. Keywords associated with this paper include singing voice synthesis, singing data mining, web crawling, and lyrics-to-singing alignment.\\n\\nFor more information or to access the audio samples discussed in the paper, you can visit the link provided: https://speechresearch.github.io/deepsinger/.'"
      ]
     },
     "execution_count": 12,
     "metadata": {},
     "output_type": "execute_result"
    }
   ],
   "source": [
    "accumulated_response"
   ]
  },
  {
   "cell_type": "code",
   "execution_count": null,
   "id": "f37f5888-6fd1-405b-b2b3-a19be627daa6",
   "metadata": {},
   "outputs": [],
   "source": []
  }
 ],
 "metadata": {
  "kernelspec": {
   "display_name": "Python 3 (ipykernel)",
   "language": "python",
   "name": "python3"
  },
  "language_info": {
   "codemirror_mode": {
    "name": "ipython",
    "version": 3
   },
   "file_extension": ".py",
   "mimetype": "text/x-python",
   "name": "python",
   "nbconvert_exporter": "python",
   "pygments_lexer": "ipython3",
   "version": "3.13.5"
  }
 },
 "nbformat": 4,
 "nbformat_minor": 5
}
